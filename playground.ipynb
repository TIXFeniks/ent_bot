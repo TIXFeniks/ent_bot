{
 "cells": [
  {
   "cell_type": "code",
   "execution_count": 2,
   "metadata": {
    "collapsed": true
   },
   "outputs": [],
   "source": [
    "import vk"
   ]
  },
  {
   "cell_type": "code",
   "execution_count": 7,
   "metadata": {
    "collapsed": false
   },
   "outputs": [],
   "source": [
    "from IPython.display import clear_output\n",
    "\n",
    "login=str(raw_input())\n",
    "passw=str(raw_input())\n",
    "\n",
    "clear_output()\n",
    "\n",
    "session = vk.AuthSession('6082600', login, passw, scope=\"wall,messages\")\n",
    "vk_api = vk.API(session)\n"
   ]
  },
  {
   "cell_type": "code",
   "execution_count": 8,
   "metadata": {
    "collapsed": false
   },
   "outputs": [],
   "source": [
    "dialogs = vk_api.messages.getDialogs()"
   ]
  },
  {
   "cell_type": "code",
   "execution_count": 9,
   "metadata": {
    "collapsed": false
   },
   "outputs": [
    {
     "data": {
      "text/plain": [
       "21"
      ]
     },
     "execution_count": 9,
     "metadata": {},
     "output_type": "execute_result"
    }
   ],
   "source": [
    "len(dialogs)"
   ]
  },
  {
   "cell_type": "code",
   "execution_count": 10,
   "metadata": {
    "collapsed": false,
    "scrolled": true
   },
   "outputs": [
    {
     "data": {
      "text/plain": [
       "[301,\n",
       " {u'body': u'\\u0422\\u043e\\u0433\\u0434\\u0430 \\u043d\\u0430\\u043f\\u0438\\u0448\\u0443 \\u0442\\u0435\\u0431\\u0435 \\u0433\\u0434\\u0435 \\u0442\\u043e \\u0432 7',\n",
       "  u'date': 1497966158,\n",
       "  u'mid': 147307,\n",
       "  u'out': 0,\n",
       "  u'read_state': 1,\n",
       "  u'title': u' ... ',\n",
       "  u'uid': 1029514},\n",
       " {u'admin_id': 134651636,\n",
       "  u'body': u'',\n",
       "  u'chat_active': u'201202547,134651636,18401120,100774744,50286423,155226421,86065563,143447457,34527813,214125249,42185718,27056209,65182126,184216814,186649084,156081905,223595124,179602765,66149879,66653661',\n",
       "  u'chat_id': 74,\n",
       "  u'date': 1497964121,\n",
       "  u'fwd_messages': [{u'body': u'59 \\u0431\\u0430\\u043b\\u043b\\u043e\\u0432 \\u043b\\u0438\\u0442\\u0440\\u0430',\n",
       "    u'date': 1497964106,\n",
       "    u'uid': 134651636},\n",
       "   {u'body': u'\\u042f \\u0440\\u0430\\u0434\\u043e\\u0441\\u0442\\u043d\\u044b\\u0439',\n",
       "    u'date': 1497964109,\n",
       "    u'uid': 134651636}],\n",
       "  u'mid': 147300,\n",
       "  u'out': 0,\n",
       "  u'photo_100': u'https://pp.userapi.com/c638531/v638531813/42384/aUaJEkngbac.jpg',\n",
       "  u'photo_200': u'https://pp.userapi.com/c638531/v638531813/42382/GCsmhp4yBzw.jpg',\n",
       "  u'photo_50': u'https://pp.userapi.com/c638531/v638531813/42385/0S9UhdH2T_Y.jpg',\n",
       "  u'push_settings': {u'disabled_until': -1, u'sound': 0},\n",
       "  u'read_state': 1,\n",
       "  u'title': u'\\u0427\\u0413\\u041c11,5\\u0435',\n",
       "  u'uid': 134651636,\n",
       "  u'users_count': 21},\n",
       " {u'body': u'\\u041f\\u043e\\u043b\\u0441\\u0442\\u0430\\u043d\\u0446\\u0438\\u0438',\n",
       "  u'date': 1497957464,\n",
       "  u'mid': 147299,\n",
       "  u'out': 1,\n",
       "  u'read_state': 1,\n",
       "  u'title': u' ... ',\n",
       "  u'uid': 42185718},\n",
       " {u'body': u'\\u041e\\u043a, \\u043f\\u0440\\u0438\\u0448\\u043b\\u044e',\n",
       "  u'date': 1497887577,\n",
       "  u'mid': 147271,\n",
       "  u'out': 0,\n",
       "  u'read_state': 1,\n",
       "  u'title': u' ... ',\n",
       "  u'uid': 134651636},\n",
       " {u'body': u'\\u0432\\u0441\\u0435 \\u043e\\u043a',\n",
       "  u'date': 1497880471,\n",
       "  u'mid': 147251,\n",
       "  u'out': 1,\n",
       "  u'read_state': 1,\n",
       "  u'title': u' ... ',\n",
       "  u'uid': 363256990},\n",
       " {u'body': u'\\u041e\\u043a, \\u044d\\u0442\\u043e \\u043c\\u043e\\u0436\\u043d\\u043e',\n",
       "  u'date': 1497863885,\n",
       "  u'mid': 147214,\n",
       "  u'out': 1,\n",
       "  u'read_state': 1,\n",
       "  u'title': u' ... ',\n",
       "  u'uid': 145674088},\n",
       " {u'body': u'\\u0421\\u043a\\u0443\\u0447\\u043d\\u043e \\u0442\\u0430\\u043c \\u0431\\u044b\\u043b\\u043e',\n",
       "  u'date': 1497863846,\n",
       "  u'mid': 147210,\n",
       "  u'out': 1,\n",
       "  u'read_state': 1,\n",
       "  u'title': u' ... ',\n",
       "  u'uid': 236720789},\n",
       " {u'body': u'\\u041a\\u0430\\u0439\\u0444)))))',\n",
       "  u'date': 1497857804,\n",
       "  u'mid': 147197,\n",
       "  u'out': 1,\n",
       "  u'read_state': 1,\n",
       "  u'title': u' ... ',\n",
       "  u'uid': 53427321},\n",
       " {u'body': u'\\u0435\\u0449\\u0435 \\u0431\\u044b 5 \\u0438\\u0433\\u0440',\n",
       "  u'date': 1497715203,\n",
       "  u'mid': 147116,\n",
       "  u'out': 0,\n",
       "  u'read_state': 1,\n",
       "  u'title': u' ... ',\n",
       "  u'uid': 49019703},\n",
       " {u'body': u'\\u0423\\u0432\\u044b',\n",
       "  u'date': 1497697900,\n",
       "  u'mid': 147064,\n",
       "  u'out': 0,\n",
       "  u'read_state': 1,\n",
       "  u'title': u' ... ',\n",
       "  u'uid': 12743770},\n",
       " {u'body': u'\\u0431\\u043b\\u044d\\u044d\\u044d\\u044d\\u0442(',\n",
       "  u'date': 1497652198,\n",
       "  u'mid': 147052,\n",
       "  u'out': 0,\n",
       "  u'read_state': 1,\n",
       "  u'title': u' ... ',\n",
       "  u'uid': 143447457},\n",
       " {u'body': u'\\u041e\\u043a',\n",
       "  u'date': 1497637302,\n",
       "  u'mid': 147023,\n",
       "  u'out': 0,\n",
       "  u'read_state': 1,\n",
       "  u'title': u' ... ',\n",
       "  u'uid': 100774744},\n",
       " {u'body': u'\\u041d\\u043e \\u0434\\u043d\\u0451\\u043c \\u0442\\u043e\\u0447\\u043d\\u043e \\u0431\\u044b\\u043b\\u0430',\n",
       "  u'date': 1497468323,\n",
       "  u'mid': 146697,\n",
       "  u'out': 0,\n",
       "  u'read_state': 1,\n",
       "  u'title': u' ... ',\n",
       "  u'uid': 44749867},\n",
       " {u'body': u'+',\n",
       "  u'date': 1497467280,\n",
       "  u'mid': 146686,\n",
       "  u'out': 0,\n",
       "  u'read_state': 1,\n",
       "  u'title': u' ... ',\n",
       "  u'uid': 400508060},\n",
       " {u'body': u'\\u0427\\u0442\\u043e \\u0442\\u0430\\u043a\\u043e\\u0435?',\n",
       "  u'date': 1497297973,\n",
       "  u'mid': 146222,\n",
       "  u'out': 1,\n",
       "  u'read_state': 1,\n",
       "  u'title': u' ... ',\n",
       "  u'uid': 268940},\n",
       " {u'body': u'\\u0418\\u043d\\u0442\\u0435\\u0440\\u0435\\u0441\\u043d\\u043e \\u0434\\u0430\\u0436\\u0435',\n",
       "  u'date': 1497262334,\n",
       "  u'mid': 146158,\n",
       "  u'out': 0,\n",
       "  u'read_state': 1,\n",
       "  u'title': u' ... ',\n",
       "  u'uid': 139350915},\n",
       " {u'body': u'\\u0411\\u0435\\u0433\\u0438, \\u043c\\u043e\\u043b\\u043e\\u0434\\u043e\\u0439',\n",
       "  u'date': 1497009139,\n",
       "  u'mid': 145847,\n",
       "  u'out': 1,\n",
       "  u'read_state': 1,\n",
       "  u'title': u' ... ',\n",
       "  u'uid': 153603831},\n",
       " {u'body': u'\\u0421\\u0435\\u0439\\u0447\\u0430\\u0441 \\u043d\\u0430\\u043f\\u0438\\u0448\\u0443',\n",
       "  u'date': 1496931566,\n",
       "  u'mid': 145677,\n",
       "  u'out': 1,\n",
       "  u'read_state': 1,\n",
       "  u'title': u' ... ',\n",
       "  u'uid': 341857},\n",
       " {u'body': u'\\u0422\\u044b \\u0435\\u0449\\u0451 \\u0432 \\u0448\\u043a\\u043e\\u043b\\u0435?',\n",
       "  u'date': 1496757363,\n",
       "  u'mid': 145422,\n",
       "  u'out': 1,\n",
       "  u'read_state': 1,\n",
       "  u'title': u' ... ',\n",
       "  u'uid': 5741435},\n",
       " {u'body': u'\\u041f\\u0440\\u0435\\u043f\\u043e\\u0434\\u0443',\n",
       "  u'date': 1496754048,\n",
       "  u'mid': 145418,\n",
       "  u'out': 1,\n",
       "  u'read_state': 1,\n",
       "  u'title': u' ... ',\n",
       "  u'uid': 24266637}]"
      ]
     },
     "execution_count": 10,
     "metadata": {},
     "output_type": "execute_result"
    }
   ],
   "source": [
    "dialogs"
   ]
  },
  {
   "cell_type": "code",
   "execution_count": 11,
   "metadata": {
    "collapsed": false
   },
   "outputs": [
    {
     "name": "stdout",
     "output_type": "stream",
     "text": [
      "53427321\n"
     ]
    }
   ],
   "source": [
    "for dialog in dialogs:\n",
    "    if type(dialog) == int:\n",
    "        continue\n",
    "    if u'body' in dialog:\n",
    "        if dialog[u'body'] == u'Кайф)))))':\n",
    "            print dialog[u'uid']"
   ]
  },
  {
   "cell_type": "code",
   "execution_count": 12,
   "metadata": {
    "collapsed": true
   },
   "outputs": [],
   "source": [
    "target_id = 53427321"
   ]
  },
  {
   "cell_type": "code",
   "execution_count": 13,
   "metadata": {
    "collapsed": true
   },
   "outputs": [],
   "source": [
    "from time import sleep\n",
    "from tqdm import tqdm_notebook"
   ]
  },
  {
   "cell_type": "code",
   "execution_count": 14,
   "metadata": {
    "collapsed": true
   },
   "outputs": [],
   "source": [
    "class Message:\n",
    "    def __init__(self,from_id, msg, replys=[]):\n",
    "        self.from_id= from_id\n",
    "        self.message= msg\n",
    "        self.replys = replys"
   ]
  },
  {
   "cell_type": "code",
   "execution_count": 15,
   "metadata": {
    "collapsed": false
   },
   "outputs": [],
   "source": [
    "\n",
    "MAX_COUNT= 200\n",
    "total_messages = vk_api.messages.getHistory(user_id = target_id, count=MAX_COUNT)[0]"
   ]
  },
  {
   "cell_type": "code",
   "execution_count": 17,
   "metadata": {
    "collapsed": false
   },
   "outputs": [
    {
     "name": "stdout",
     "output_type": "stream",
     "text": [
      "\n"
     ]
    }
   ],
   "source": [
    "messages = []\n",
    "\n",
    "\n",
    "for i in tqdm_notebook(xrange(total_messages / MAX_COUNT+1)):\n",
    "    sleep(0.3)\n",
    "    tmp_messages = vk_api.messages.getHistory(user_id = target_id,offset=i*MAX_COUNT, count=MAX_COUNT)[1:]\n",
    "    for msg in tmp_messages:\n",
    "        txt = msg[u'body']\n",
    "        txt = txt if len(txt)>0 else 'attachment'\n",
    "        messages.append(Message(msg[u'from_id'],txt))\n",
    "\n",
    "messages = list(reversed(messages))"
   ]
  },
  {
   "cell_type": "code",
   "execution_count": 18,
   "metadata": {
    "collapsed": true
   },
   "outputs": [],
   "source": [
    "import numpy as np"
   ]
  },
  {
   "cell_type": "code",
   "execution_count": 19,
   "metadata": {
    "collapsed": true
   },
   "outputs": [],
   "source": [
    "ids_seq = [msg.from_id for msg in messages]"
   ]
  },
  {
   "cell_type": "code",
   "execution_count": 20,
   "metadata": {
    "collapsed": false
   },
   "outputs": [
    {
     "data": {
      "text/plain": [
       "14495"
      ]
     },
     "execution_count": 20,
     "metadata": {},
     "output_type": "execute_result"
    }
   ],
   "source": [
    "len(ids_seq)"
   ]
  },
  {
   "cell_type": "code",
   "execution_count": 31,
   "metadata": {
    "collapsed": false
   },
   "outputs": [],
   "source": [
    "changes = np.pad(np.where(np.diff(ids_seq) != 0)[0]+1,(1,1),'constant')\n",
    "changes[-1] = len(ids_seq)"
   ]
  },
  {
   "cell_type": "code",
   "execution_count": 32,
   "metadata": {
    "collapsed": true
   },
   "outputs": [],
   "source": [
    "from collections import defaultdict"
   ]
  },
  {
   "cell_type": "code",
   "execution_count": 81,
   "metadata": {
    "collapsed": false
   },
   "outputs": [],
   "source": [
    "user_replies = defaultdict(lambda : defaultdict(set))\n",
    "\n",
    "def merge_range(from_ind, to_ind):\n",
    "    return '\\n'.join([msg.message for msg in messages[from_ind:to_ind]])\n",
    "        \n",
    "\n",
    "    "
   ]
  },
  {
   "cell_type": "code",
   "execution_count": 82,
   "metadata": {
    "collapsed": false
   },
   "outputs": [],
   "source": [
    "\n",
    "\n",
    "for i in xrange(changes.shape[0] - 2):\n",
    "    reply = merge_range(changes[i+1],changes[i+2]).lower()\n",
    "    for j in xrange(changes[i], changes[i+1]):\n",
    "        user_replies[messages[changes[i+1]].from_id][messages[j].message.lower()].add(reply)"
   ]
  },
  {
   "cell_type": "code",
   "execution_count": 83,
   "metadata": {
    "collapsed": true
   },
   "outputs": [],
   "source": [
    "from random import choice"
   ]
  },
  {
   "cell_type": "code",
   "execution_count": 138,
   "metadata": {
    "collapsed": false
   },
   "outputs": [],
   "source": [
    "from difflib import get_close_matches"
   ]
  },
  {
   "cell_type": "code",
   "execution_count": 230,
   "metadata": {
    "collapsed": true
   },
   "outputs": [],
   "source": [
    "def flatten(l):\n",
    "    res = []\n",
    "    for i in l:\n",
    "        res += i\n",
    "    return res"
   ]
  },
  {
   "cell_type": "code",
   "execution_count": 408,
   "metadata": {
    "collapsed": false
   },
   "outputs": [],
   "source": [
    "\n",
    "def get_answer(ind,txt):\n",
    "    all_ent_quests = user_replies[ind].keys()\n",
    "\n",
    "    msgs = get_close_matches(txt.lower(), all_ent_quests,n=5, cutoff=0)\n",
    "\n",
    "    res = flatten([list(user_replies[ind][msg]) for msg in msgs])\n",
    "    return choice(res)"
   ]
  },
  {
   "cell_type": "code",
   "execution_count": 412,
   "metadata": {
    "collapsed": false
   },
   "outputs": [
    {
     "name": "stdout",
     "output_type": "stream",
     "text": [
      "ENT> Привет\n",
      "\n",
      "Pidr> брид ит бэр ит <br>мэйк ит йо нааакатик<br>бегин фэйс даун он зэ фло<br>брид ит бэр ит <br>мэйк ит йо нааакатик<br>соу йо нау зей вонт мооо\n",
      "\n",
      "ENT> ебать\n",
      "нихуя ты настрочил\n",
      "а я вчера всю ночь на скорой катался\n",
      "\n",
      "Pidr> пиздобол\n",
      "ты дрочить ушел\n",
      "а потом спать\n",
      "я пойду\n",
      "\n",
      "ENT> неа\n",
      "\n",
      "Pidr> эт наш отряд\n",
      "моц\n",
      "\n",
      "ENT> лул\n",
      "потом посмотрю\n",
      "http://www.youtube.com/playlist?list=llrmnnq3v4xsg0jdry4fya5a\n",
      "блть\n",
      "attachment\n",
      "группа - dethklok\n",
      "у них есть свой мультик на 2х2\n",
      "а сама группа состоит из 2 чуваков\n",
      "для озвучки мультика пригласили участников популярных групп\n",
      "из метеллицы, canobal corpse\n",
      "и другие\n",
      "вооот\n",
      "\n",
      "Pidr> я видел\n",
      "\n",
      "ENT> чув\n",
      "а нахуя нужны шляпки и мячики?\n",
      "\n",
      "Pidr> шляпки?\n",
      "\n",
      "ENT> спок\n",
      "\n",
      "Pidr> я решил проблему с 8 марта\n",
      "http://vk.com/wall-45595714_5336533\n",
      "\n",
      "ENT> лалз\n",
      "зайди за коалку\n",
      "attachment\n",
      "хули ты не спишь?\n",
      "\n",
      "Pidr> ок\n",
      "\n",
      "ENT> рассказывай\n",
      "\n",
      "Pidr> та ж хуйня)\n",
      "\n",
      "ENT> окм\n",
      "окс\n",
      "\n",
      "Pidr> го\n",
      "я выхожу\n",
      "точнее\n",
      "выбегаю\n",
      "за мной гонится мамка с топором\n",
      "\n",
      "ENT> ага\n",
      "лось\n",
      "муломь\n",
      "блять\n",
      "\n",
      "Pidr> не\n",
      "\n",
      "и когда будешь здоров?\n"
     ]
    }
   ],
   "source": [
    "start = u'Привет'\n",
    "\n",
    "for i in xrange(10):\n",
    "    print 'ENT>',start #FIXME\n",
    "    ans = get_answer(53427321,start)\n",
    "    print ''\n",
    "    print 'Pidr>',ans\n",
    "    start = get_answer(229991373,ans)\n",
    "    print\n",
    "print start"
   ]
  },
  {
   "cell_type": "code",
   "execution_count": 28,
   "metadata": {
    "collapsed": false,
    "scrolled": true
   },
   "outputs": [
    {
     "name": "stdout",
     "output_type": "stream",
     "text": [
      "Йоу, бро.\n",
      "attachment\n",
      "Пхаха\n",
      "Я еще с кошакером общался\n",
      "и телку выебал\n",
      "Ахаха, разведал\n",
      "?\n",
      "?\n",
      "Что он задумал?\n",
      "Кто?\n",
      "Кошакер\n",
      "Пингвинский?\n",
      "Аааа\n",
      "не\n",
      "он хороший\n",
      "Чувак, позже реально\n",
      "оки\n",
      "Короче нихуя не получилось\n",
      "Пачиму?\n",
      "У меня запросили номер моб тел, я ввел, пришло смс ебать ты лох\n",
      "Ахаха\n",
      "ахаха\n",
      "Нет\n",
      "Пришел код, я его сука ввел, мне написали, этот номер уже прифязан к другой странице, типа нельзя создать (можно если удалишь страницу Павел Смирнов)\n",
      "так и что?ъ\n",
      "удалил бы\n",
      "-_-\n",
      "Нахуя?\n",
      "ебать нахуя?\n",
      "ты можешь быть коалой!!!\n",
      "а не человеком\n",
      "ты же всегда мечтал!\n",
      "Ахаха, кошка мурка))\n",
      "Кошакер\n",
      "моя подруга)\n",
      "Мне нужна и та и другая страница\n",
      "зачем?\n",
      "я пошутил\n",
      "кароч\n",
      "пздс\n",
      "ну ок\n",
      "купи себе новую сим ку\n",
      "Не, номер брата-пиздюка напишу\n",
      "вооот\n",
      "или так\n",
      "А потом отвяжу номер\n",
      "Пох, завтра сделаю\n",
      "Как мило\n",
      "attachment\n",
      "Дорогой Енот\n",
      "ахаахах\n",
      "Пхаха, \"о себе\"\n",
      "Побег енота\n",
      "😆\n",
      "ну что го дружится Коала\n",
      "Чувааааак\n",
      "Я в туалете\n",
      "Ну если тпк срочно\n",
      "аахах\n",
      "То\n",
      "Привет\n",
      "Ты\n",
      "не\n",
      "Коала\n",
      "Почъэму\n",
      "хуесос-человек, не смей меня обманывать\n",
      "Я же енот, а не долбоеб\n",
      "Пошел нахуй пес ебаный\n",
      "Хей!\n",
      "Человек\n",
      "ебушки-воробушки\n",
      "Дай мне поговорить с адекватным существом\n",
      "Енот<br>Я пришел к вам по объявлению в паблике Жизнь-Тлен, у меня серьезные проблемы, мой хозяин запер меня в туалете...<br>20:04:41<br><br> <br>Сергей<br>посри тогда там<br>20:05:50<br><br>Енот<br>Нет, вы не понимаете. Я - Енот полоскун, если я насру рядом с унитазом, меня ждет еще одна порция тирании и унижений.<br>Ошибка<br><br>Мудак -_-<br>Ошибка\n",
      "По-моему надо взъебать ебало Армана\n",
      "+\n",
      "но не в школе\n",
      "Да\n",
      "чтоб не выебывался\n",
      "И еще за то что отнял наших братанов\n",
      "аахах из друзей меня удалил\n",
      "Пидр, чмо\n",
      "Меня уже давно\n",
      "чмырь, пидрила\n",
      "зайди за коалу\n",
      "так ржачнее\n",
      "типа нас бесит один человек...\n",
      "Ок\n",
      "ахах\n",
      "Я начну писать ему за коалу\n",
      "ахахаха\n",
      "только удали себя настоящего из друзей\n",
      "типа консперация\n",
      "Я согласен идти за пиджаком, ток через час или полчаса\n",
      "Я уже могу доб. Тя в друзья?\n",
      "оки\n",
      "канечн\n",
      "хотя\n",
      "Ты у меня и так в друзьях\n",
      "лес го\n",
      "В какой лес?\n"
     ]
    }
   ],
   "source": [
    "print merge_range(0,100)"
   ]
  },
  {
   "cell_type": "code",
   "execution_count": 37,
   "metadata": {
    "collapsed": false,
    "scrolled": true
   },
   "outputs": [
    {
     "name": "stdout",
     "output_type": "stream",
     "text": [
      "ENT > Я тебя понял, ты дачник\n",
      "PIDR > Ну давай я узнаю, как домой приду\n",
      "PIDR > Не-не\n",
      "PIDR > Я в Московии\n",
      "ENT > Ааа\n",
      "ENT > Тогда ок\n",
      "ENT > Напиши, через сколько примерно будет дома\n",
      "ENT > Успею я в спортзал сходить или нет\n",
      "PIDR > Я думаю, успеешь\n",
      "ENT > В 4 примерно тогда?\n",
      "PIDR > Я еще ничего не узнал\n",
      "PIDR > До дома не дошёл\n",
      "ENT > Тогда попутного ветра, епты\n",
      "ENT > Насколько там зубодробительный мороз на улице?\n",
      "PIDR > Пасиба бля\n",
      "PIDR > Ну такой\n",
      "PIDR > Терпимо\n",
      "ENT > Ок\n",
      "PIDR > Так\n",
      "PIDR > Мне надо будет расписаться в шкалке\n",
      "PIDR > Заодно может и встретимся\n",
      "PIDR > На часик\n",
      "PIDR > Как такое?\n",
      "ENT > Я все равно в спортзале пока\n",
      "PIDR > Во сколько свободен будешь?\n",
      "ENT > Вернусь к 4, удобно?\n",
      "ENT > Могу и раньше, у меня безлимит\n",
      "PIDR > Ну нормально, пока тогда с фотографиями разберусь\n",
      "ENT > Ок, потому что если тебе удобно сейчас, то го сначала погуляем\n",
      "PIDR > Если что, то звякну тогда. Номер старый же?\n",
      "ENT > 89167155347\n",
      "ENT > Сейчас неудобно?\n",
      "PIDR > Падажжи ебана\n",
      "PIDR > Ща\n",
      "PIDR > Секунду\n",
      "PIDR > Давай сейчас тогда\n",
      "PIDR > Ненадолго только, окей?\n",
      "ENT > Часок хочу\n",
      "PIDR > А то мамка с пацанами одна дома\n",
      "PIDR > Ну да\n",
      "PIDR > Часок\n",
      "ENT > Норм, буду через 10-15 минут\n",
      "ENT > На шипиловской\n",
      "PIDR > Где?\n",
      "PIDR > Какой выход?\n",
      "ENT > И зонтик вынеси\n",
      "ENT > Дождь ска\n",
      "PIDR > Да-да\n",
      "ENT > В сторону твоего дома\n",
      "ENT > Возле перекрестка\n",
      "ENT > Вроде там ты живёшь\n",
      "PIDR > Понял\n",
      "ENT > Еси чё, бы свой моб тоже\n",
      "PIDR > 89100840266\n",
      "ENT > Найс, жди\n",
      "ENT > Мне 2 станции поехать\n",
      "ENT > И я там, так что беги\n",
      "PIDR > А мне доесть суп\n",
      "PIDR > Ага\n",
      "ENT > Блэт\n",
      "PIDR > Ща быренько\n",
      "ENT > Курить придется что-ли\n",
      "ENT > Эзххх\n",
      "PIDR > Все\n",
      "PIDR > Дожрал\n",
      "PIDR > Выхожу\n",
      "PIDR > косплей на тебя нашел\n",
      "PIDR > ещё один\n",
      "ENT > ))))))))\n",
      "PIDR > все, в качалку стопудово пойдем\n",
      "ENT > когда?\n",
      "PIDR > а это я хз\n",
      "ENT > гык\n",
      "ENT > давай завтра ебать\n",
      "PIDR > завтра ж пятница?\n",
      "ENT > +\n",
      "PIDR > Тут очень сложно выходит с выходными и дачей. Потому что до сих пор нихера непонятно, едем мы или нет\n",
      "ENT > ну ты не надо\n",
      "PIDR > Просто, если едем, то в пятницу уезжаем\n",
      "PIDR > просто бля\n",
      "PIDR > смотри\n",
      "PIDR > Илюха стопудово со своей тян займет хату одну\n",
      "PIDR > А мать стопудово не поедет на дачу\n",
      "PIDR > То есть я стопудово остаться не смогу\n",
      "ENT > почемуууу\n",
      "PIDR > потому что я Настюхе обещал выхи\n",
      "ENT > я запутался\n",
      "PIDR > либо в мск, либо на даче\n",
      "ENT > остаться в мск не можешь?\n",
      "ENT > нуууууууууу\n",
      "PIDR > но в мск уже выходит места нет\n",
      "ENT > как так места нет\n",
      "ENT > аааааа\n",
      "PIDR > остается дача\n",
      "ENT > ты трахеться хочешь\n",
      "ENT > поонял вас, мистер\n",
      "PIDR > бля, ну она просто на ночь\n",
      "PIDR > ору\n",
      "ENT > не ори, в лесу потрахеетесь\n",
      "ENT > романтика, опасность\n",
      "ENT > вся хуйня\n",
      "ENT > женщинам такое нравится\n",
      "ENT > еси любишь попикантнее, могу тебе углей в жопу под конец насыпать\n",
      "PIDR > я ее так один раз чуть не пырнул\n",
      "ENT > пинасом\n",
      "ENT > в пупок?\n",
      "PIDR > в ухо\n",
      "ENT > блэт\n",
      "ENT > корочи изи секс в лесу\n",
      "ENT > скажите, что пописить\n",
      "ENT > я смекну\n",
      "ENT > дам вам през и углей\n",
      "ENT > и бегите развлекаться\n",
      "ENT > а? найс я придумал?\n",
      "PIDR > все\n",
      "PIDR > вопрос решен\n",
      "PIDR > мы в мск остаемся\n",
      "ENT > супаер\n",
      "ENT > изи\n",
      "ENT > поможите на пикник закупиться и подготовить все, а то у меня пол сб занято, один не успею?\n",
      "PIDR > лады\n",
      "PIDR > со временем распиши, что да как\n",
      "PIDR > когда пикник, когда закупка и что купитьь\n",
      "ENT > К 8 предлагаю встретиться и все сделать\n",
      "ENT > Подготовиться, все купить и к 10, всем встретиться уже\n",
      "PIDR > Окей\n",
      "PIDR > Я Андрюху ещё возьму с собой\n",
      "PIDR > Окей?\n",
      "PIDR > Ну, если его отпустят\n",
      "ENT > Лосева?\n",
      "PIDR > Да\n",
      "ENT > Не надо\n",
      "ENT > Компания не та\n",
      "PIDR > Чего так?\n",
      "ENT > А ты ему разболтался уже?))))\n",
      "PIDR > Бля, для него это норм компания\n",
      "PIDR > Нет\n",
      "ENT > Это закрытая вечеринка, сорри\n",
      "PIDR > Он нажирался и не такую херню творил ещё\n",
      "ENT > В этом и проблема\n",
      "ENT > Я не хочу нажранных Лосей\n",
      "ENT > В общем, давай пока без него\n",
      "ENT > Отдельно с ним встретимся и потом пригласим, если он норм тип\n",
      "PIDR > Ну окей. Просто не очень, что не пригласили даже\n",
      "ENT > Я сам человек 5 задинамил, чтобы немного народу было\n",
      "PIDR > В итоге нас 6?\n",
      "ENT > Включая твою женщину 7\n",
      "ENT > Я, Света, 3 моих товарища и вы\n",
      "PIDR > Окей\n",
      "ENT > Если что, это не последний, офк\n",
      "PIDR > Офк?\n",
      "PIDR > Это как афк?\n",
      "ENT > Оф коауэрс\n",
      "PIDR > Хех\n",
      "ENT > В сл раз по любому сделаем лучше\n",
      "PIDR > Надолго эта экспедиция будет?\n",
      "ENT > До открытия метро\n",
      "ENT > Скорее всего\n",
      "PIDR > Я просто хз сколько мы просидим\n",
      "ENT > Как насидитесь, можете идти\n",
      "ENT > Не знаю, только куда\n",
      "ENT > У тебя на хате сможете переночевать\n",
      "ENT > ?\n",
      "PIDR > Да\n",
      "ENT > Ну тогда вообще 0 проблем\n",
      "ENT > А по поводу Лося, сорри, просто я хотел как можно меньше народа, поэтому большинство нахуй послал\n",
      "ENT > Ну и к тому же мы слишком давно с ним не виделись\n",
      "ENT > кстати, вспомнил, что за шедевр ты упустил\n",
      "ENT > Если есть возможность принеси 500 р на пикник\n",
      "PIDR > Ок\n",
      "ENT > Парень\n",
      "ENT > А ты где?\n",
      "PIDR > Дома\n",
      "PIDR > А что?\n",
      "PIDR > Где собираемся?\n",
      "ENT > Так мы же договаривались пикник делать\n",
      "PIDR > Ты не сказал где встречаемся\n",
      "ENT > Мы выйдем минут через 15 и нам надо будет в Ашан\n",
      "PIDR > Я и сижу жду\n",
      "ENT > Ок, тогда молодец\n",
      "ENT > Если бы сидел и забыл было бы плохо\n",
      "PIDR > Так как встретимся?\n",
      "ENT > Надо подрочить\n",
      "ENT > * подумать\n",
      "ENT > Т9\n",
      "PIDR > Тоже так думаю\n",
      "ENT > У тебя женщина под рукой\n",
      "PIDR > Вы через мой дом пойдёте же?\n",
      "ENT > Хз, наверное\n",
      "ENT > Ладно, выйдем напишу\n",
      "PIDR > Ага\n",
      "PIDR > Смску только\n",
      "PIDR > А то уведомления отключил\n",
      "PIDR > Йоу\n",
      "PIDR > Ну вы как, живые после шашлыка?)\n",
      "PIDR > Спасибо за тёплый приём)\n",
      "ENT > Да, живём\n",
      "ENT > Только встал\n",
      "PIDR > \n",
      "ENT > Кайф)))))\n"
     ]
    }
   ],
   "source": [
    "for msg in reversed(messages):\n",
    "    print \"ENT\" if msg[u'from_id'] != target_id else \"PIDR\",\">\",msg[u'body']"
   ]
  },
  {
   "cell_type": "code",
   "execution_count": null,
   "metadata": {
    "collapsed": true
   },
   "outputs": [],
   "source": []
  }
 ],
 "metadata": {
  "kernelspec": {
   "display_name": "Python 2",
   "language": "python",
   "name": "python2"
  },
  "language_info": {
   "codemirror_mode": {
    "name": "ipython",
    "version": 2
   },
   "file_extension": ".py",
   "mimetype": "text/x-python",
   "name": "python",
   "nbconvert_exporter": "python",
   "pygments_lexer": "ipython2",
   "version": "2.7.12"
  },
  "widgets": {
   "state": {
    "f141e5f42eed49808b91e060856883a4": {
     "views": [
      {
       "cell_index": 10
      }
     ]
    }
   },
   "version": "1.2.0"
  }
 },
 "nbformat": 4,
 "nbformat_minor": 2
}
